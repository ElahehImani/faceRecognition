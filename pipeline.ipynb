{
  "cells": [
    {
      "cell_type": "code",
      "execution_count": null,
      "metadata": {
        "colab": {
          "base_uri": "https://localhost:8080/"
        },
        "id": "VeHgfzaNzEMT",
        "outputId": "47a3b6b5-d166-4c2b-9036-60e744808d60"
      },
      "outputs": [
        {
          "name": "stdout",
          "output_type": "stream",
          "text": [
            "Mounted at /content/gdrive\n"
          ]
        }
      ],
      "source": [
        "from google.colab import drive\n",
        "\n",
        "drive.mount('/content/gdrive')"
      ]
    },
    {
      "cell_type": "code",
      "execution_count": null,
      "metadata": {
        "id": "p44CdvphyPqt"
      },
      "outputs": [],
      "source": [
        "import wget\n",
        "import os\n",
        "!wget 'http://vis-www.cs.umass.edu/lfw/lfw.tgz'"
      ]
    },
    {
      "cell_type": "code",
      "execution_count": null,
      "metadata": {
        "id": "ly28WcdQg_LI"
      },
      "outputs": [],
      "source": [
        "!pip install mxnet\n",
        "!pip install onnxruntime\n",
        "!pip install insightface"
      ]
    },
    {
      "cell_type": "code",
      "execution_count": null,
      "metadata": {
        "id": "P90QpXlsiDqR"
      },
      "outputs": [],
      "source": [
        "import numpy as np\n",
        "import cv2\n",
        "import insightface\n",
        "from insightface.app import FaceAnalysis\n",
        "from insightface.data import get_image as ins_get_image\n",
        "import pickle\n",
        "import os\n",
        "from os.path import isfile, join, exists\n",
        "\n",
        "dataset='lfw'\n",
        "datapath='/content/gdrive/MyDrive/lfw/'\n",
        "imagepath=datapath\n",
        "infopath=datapath+'pairs.txt'\n",
        "modelName='buffalo_s'\n",
        "ModelRootPath='/content/gdrive/MyDrive/insightface'\n",
        "imageShape=(250, 250)\n",
        "outfileName='/content/gdrive/MyDrive/'+modelName+'_'+dataset+'.pickle'\n",
        "\n",
        "def inference(img):\n",
        "    app = FaceAnalysis(name=modelName,root=ModelRootPath)\n",
        "    app.prepare(ctx_id=0, det_size=(640,640))\n",
        "    faces = app.get(img)\n",
        "\n",
        "    EM=[]\n",
        "    if(len(faces)==0):\n",
        "      EM=np.zeros((512,))\n",
        "\n",
        "    elif(len(faces)>1):\n",
        "      max_score=0;\n",
        "      max_idx=0\n",
        "      for i in range(len(faces)):\n",
        "        if(faces[i]['det_score']>max_score):\n",
        "          max_score=faces[i]['det_score']\n",
        "          max_idx=i\n",
        "\n",
        "      EM=faces[max_idx]['embedding']\n",
        "\n",
        "    else:\n",
        "      EM=faces[0]['embedding']\n",
        "\n",
        "    return EM\n",
        "\n",
        "pairs=[]\n",
        "with open(infopath, 'r') as f:\n",
        "    for line in f.readlines()[1:]:\n",
        "        pair = line.strip().split()\n",
        "        pairs.append(pair)\n",
        "\n",
        "fileName=[]\n",
        "labels=[]\n",
        "features=[]\n",
        "i=0\n",
        "\n",
        "def get_img_num(name,number):\n",
        "  finalName=''\n",
        "  if(int(number)<10):\n",
        "    finalName=name+'_000'+number+'.jpg'\n",
        "  elif(int(number)<100):\n",
        "    finalName=name+'_00'+number+'.jpg'\n",
        "  elif(int(number)<1000):\n",
        "    finalName=name+'_0'+number+'.jpg'\n",
        "  else:\n",
        "    finalName=name+'_'+number+'.jpg'\n",
        "\n",
        "  return finalName\n",
        "\n",
        "if(exists(outfileName)):\n",
        "  with open(outfileName, \"rb\") as f:\n",
        "    data = pickle.load(f)\n",
        "    fileName=data['fileName']\n",
        "    labels=data['labels']\n",
        "    features=data['features']\n",
        "    i=len(fileName)*2+1\n",
        "    f.close()\n",
        "\n",
        "for i in range(len(pairs)):\n",
        "  fileN=[]\n",
        "  F=np.zeros((2,512))\n",
        "  lbl=1\n",
        "  if(len(pairs[i])==3):\n",
        "    img1=get_img_num(pairs[i][0],pairs[i][1])\n",
        "    img2=get_img_num(pairs[i][0],pairs[i][2])\n",
        "    img_path1=imagepath+pairs[i][0]+'/'+img1\n",
        "    img_path2=imagepath+pairs[i][0]+'/'+img2\n",
        "\n",
        "  elif(len(pairs[i])==4):\n",
        "    img1=get_img_num(pairs[i][0],pairs[i][1])\n",
        "    img2=get_img_num(pairs[i][2],pairs[i][3])\n",
        "    img_path1=imagepath+pairs[i][0]+'/'+img1\n",
        "    img_path2=imagepath+pairs[i][2]+'/'+img2\n",
        "    lbl=0\n",
        "\n",
        "    fileN=[img1,img2]\n",
        "\n",
        "    img1=cv2.imread(img_path1)\n",
        "    img2=cv2.imread(img_path2)\n",
        "    F[0,:]=inference(img1)\n",
        "    F[1,:]=inference(img2)\n",
        "\n",
        "  labels.append(lbl)\n",
        "  fileName.append(fileN)\n",
        "  features.append(F)\n",
        "  featureSet={'labels':labels,'fileName':fileName, 'features':features}\n",
        "  \n",
        "  if(exists(outfileName)):\n",
        "    os.remove(outfileName)\n",
        "    \n",
        "  with open(outfileName, 'wb') as f:\n",
        "    pickle.dump(featureSet, f)\n",
        "\n",
        "  print(f'file {len(features)}')\n",
        "\n",
        "featureSet={'labels':labels,'fileName':fileName, 'features':features}\n",
        "os.remove(outfileName)\n",
        "with open(outfileName, 'wb') as f:\n",
        "    pickle.dump(featureSet, f)"
      ]
    }
  ],
  "metadata": {
    "colab": {
      "provenance": []
    },
    "kernelspec": {
      "display_name": "Python 3",
      "name": "python3"
    },
    "language_info": {
      "name": "python"
    }
  },
  "nbformat": 4,
  "nbformat_minor": 0
}
